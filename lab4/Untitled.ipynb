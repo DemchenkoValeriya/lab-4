{
 "cells": [
  {
   "cell_type": "markdown",
   "id": "09c927d9-16cf-4b30-af9b-92e5bf669239",
   "metadata": {},
   "source": [
    "Date"
   ]
  },
  {
   "cell_type": "code",
   "execution_count": 1,
   "id": "98e4cbd8-8c2e-478e-95a3-c706824e749c",
   "metadata": {},
   "outputs": [
    {
     "name": "stdout",
     "output_type": "stream",
     "text": [
      "Current Date: 2025-02-19\n",
      "Date 5 Days Ago: 2025-02-14\n"
     ]
    }
   ],
   "source": [
    "from datetime import datetime, timedelta\n",
    "\n",
    "date = datetime.now()\n",
    "new_date = date - timedelta(days=5)\n",
    "\n",
    "print(\"Current Date:\", date.strftime(\"%Y-%m-%d\"))\n",
    "print(\"Date 5 Days Ago:\", new_date.strftime(\"%Y-%m-%d\"))\n"
   ]
  },
  {
   "cell_type": "code",
   "execution_count": null,
   "id": "53d89e60-841c-4cba-a7e6-ab7d5eba5ff4",
   "metadata": {},
   "outputs": [],
   "source": [
    "from datetime import datetime, timedelta\n",
    "\n",
    "today = datetime.now()\n",
    "yesterday = today - timedelta(days=1)\n",
    "tomorrow = today + timedelta(days=1)\n",
    "\n",
    "print(\"Yesterday:\", yesterday.strftime(\"%Y-%m-%d\"))\n",
    "print(\"Today:\", today.strftime(\"%Y-%m-%d\"))\n",
    "print(\"Tomorrow:\", tomorrow.strftime(\"%Y-%m-%d\"))\n"
   ]
  },
  {
   "cell_type": "code",
   "execution_count": 7,
   "id": "451a978a-8a1e-4c9d-b2f1-c684e7136a68",
   "metadata": {},
   "outputs": [
    {
     "name": "stdout",
     "output_type": "stream",
     "text": [
      "2025-02-19 02:38:35\n"
     ]
    }
   ],
   "source": [
    "from datetime import datetime\n",
    "\n",
    "time = datetime.now().replace(microsecond=0)\n",
    "\n",
    "print(time)\n"
   ]
  },
  {
   "cell_type": "code",
   "execution_count": 15,
   "id": "0fb5fc03-7292-44de-853d-106d8446438f",
   "metadata": {},
   "outputs": [
    {
     "name": "stdout",
     "output_type": "stream",
     "text": [
      "7526340.0\n"
     ]
    }
   ],
   "source": [
    "from datetime import datetime\n",
    "\n",
    "date1 = datetime(2024, 5, 7, 18, 9, 0) \n",
    "date2 = datetime(2024, 2, 10, 15, 30, 0)\n",
    "\n",
    "difference = abs((date2 - date1).total_seconds())\n",
    "\n",
    "print(difference)\n"
   ]
  },
  {
   "cell_type": "markdown",
   "id": "bfc1999c-9cdb-41de-b026-b8d3f896f32f",
   "metadata": {},
   "source": [
    "Math"
   ]
  },
  {
   "cell_type": "code",
   "execution_count": 22,
   "id": "0eeeb9ce-80a1-417c-9a75-a5a84585511f",
   "metadata": {},
   "outputs": [
    {
     "name": "stdin",
     "output_type": "stream",
     "text": [
      "Input Degree:  15\n"
     ]
    },
    {
     "name": "stdout",
     "output_type": "stream",
     "text": [
      "Output Radian: 0.261799\n"
     ]
    }
   ],
   "source": [
    "import math\n",
    "\n",
    "degree = int(input(\"Input Degree: \"))\n",
    "radian = math.radians(degree)\n",
    "\n",
    "print(\"Output Radian:\", round(radian, 6))\n"
   ]
  },
  {
   "cell_type": "code",
   "execution_count": 24,
   "id": "5dbc0c36-a4c0-4595-8ed5-36ab24999a2e",
   "metadata": {},
   "outputs": [
    {
     "name": "stdin",
     "output_type": "stream",
     "text": [
      "Height:  5\n",
      "Base, first value:  5\n",
      "Base, second value:  6\n"
     ]
    },
    {
     "name": "stdout",
     "output_type": "stream",
     "text": [
      "Expected Output: 27.5\n"
     ]
    }
   ],
   "source": [
    "height = int(input(\"Height: \"))\n",
    "base1 = int(input(\"Base, first value: \"))\n",
    "base2 = int(input(\"Base, second value: \"))\n",
    "\n",
    "area = 0.5 * (base1 + base2) * height\n",
    "\n",
    "print(\"Expected Output:\", area)\n"
   ]
  },
  {
   "cell_type": "code",
   "execution_count": 30,
   "id": "b438fe0e-ed44-4d32-90a8-ecf818dfa8e9",
   "metadata": {},
   "outputs": [
    {
     "name": "stdin",
     "output_type": "stream",
     "text": [
      "Input number of sides:  4\n",
      "Input the length of a side:  25\n"
     ]
    },
    {
     "name": "stdout",
     "output_type": "stream",
     "text": [
      "The area of the polygon is: 625.0000000000001\n"
     ]
    }
   ],
   "source": [
    "import math\n",
    "\n",
    "sides = int(input(\"Input number of sides: \"))\n",
    "length = int(input(\"Input the length of a side: \"))\n",
    "\n",
    "area = (sides * (length ** 2)) / (4 * math.tan(math.pi / sides))\n",
    "\n",
    "print(\"The area of the polygon is:\", area)\n"
   ]
  },
  {
   "cell_type": "code",
   "execution_count": 32,
   "id": "5de38aba-cbf2-4a87-bdd7-848a80247149",
   "metadata": {},
   "outputs": [
    {
     "name": "stdin",
     "output_type": "stream",
     "text": [
      "Length of base:  5\n",
      "Height of parallelogram 6\n"
     ]
    },
    {
     "name": "stdout",
     "output_type": "stream",
     "text": [
      "Expected Output: 30.0\n"
     ]
    }
   ],
   "source": [
    "base = int(input(\"Length of base: \"))\n",
    "height = int(input(\"Height of parallelogram\"))\n",
    "\n",
    "area = base * height\n",
    "\n",
    "print(\"Expected Output:\", float(area))\n"
   ]
  },
  {
   "cell_type": "markdown",
   "id": "b2cab0ec-24b9-4686-b56b-50f18e0dbf8f",
   "metadata": {},
   "source": [
    "Generators"
   ]
  },
  {
   "cell_type": "code",
   "execution_count": 37,
   "id": "85fe48dc-a4ab-4e52-828b-bca83d20e51c",
   "metadata": {},
   "outputs": [
    {
     "name": "stdin",
     "output_type": "stream",
     "text": [
      " 10\n"
     ]
    },
    {
     "name": "stdout",
     "output_type": "stream",
     "text": [
      "0 1 4 9 16 25 36 49 64 81 100 "
     ]
    }
   ],
   "source": [
    "def squares(n):\n",
    "    for i in range(n + 1):\n",
    "        yield i ** 2\n",
    "\n",
    "n = int(input())\n",
    "for num in squares(n):\n",
    "    print(num, end=\" \")\n"
   ]
  },
  {
   "cell_type": "code",
   "execution_count": 43,
   "id": "14c15f0e-ff66-403e-8f1c-1f2a1f00622b",
   "metadata": {},
   "outputs": [
    {
     "name": "stdin",
     "output_type": "stream",
     "text": [
      " 10\n"
     ]
    },
    {
     "name": "stdout",
     "output_type": "stream",
     "text": [
      "0, 2, 4, 6, 8, 10, "
     ]
    }
   ],
   "source": [
    "def even_nums(n):\n",
    "    for i in range(0, n + 1, 2):\n",
    "        yield i\n",
    "\n",
    "n = int(input())\n",
    "for num in even_nums(n):\n",
    "    print(num, end=\", \")\n"
   ]
  },
  {
   "cell_type": "code",
   "execution_count": 45,
   "id": "1f8f1b62-4a64-4cbe-a304-1610d4b69be7",
   "metadata": {},
   "outputs": [
    {
     "name": "stdin",
     "output_type": "stream",
     "text": [
      " 64\n"
     ]
    },
    {
     "name": "stdout",
     "output_type": "stream",
     "text": [
      "0 12 24 36 48 60 "
     ]
    }
   ],
   "source": [
    "def divByThreeFour(a):\n",
    "    for i in range(a+1):\n",
    "        if i%3==0 and i%4==0:\n",
    "            yield i\n",
    "\n",
    "n = int(input())\n",
    "for num in divByThreeFour(n):\n",
    "    print(num, end=\" \")"
   ]
  },
  {
   "cell_type": "code",
   "execution_count": 49,
   "id": "0581fb75-c8bd-484f-b720-8fe83cde4771",
   "metadata": {},
   "outputs": [
    {
     "name": "stdin",
     "output_type": "stream",
     "text": [
      " 3\n",
      " 8\n"
     ]
    },
    {
     "name": "stdout",
     "output_type": "stream",
     "text": [
      "9 16 25 36 49 64 "
     ]
    }
   ],
   "source": [
    "def squares(a, b):\n",
    "    for i in range(a, b + 1):\n",
    "        yield i ** 2\n",
    "\n",
    "a = int(input())\n",
    "b = int(input())\n",
    "for value in squares(a, b):\n",
    "    print(value, end=\" \")\n"
   ]
  },
  {
   "cell_type": "code",
   "execution_count": 55,
   "id": "5492f3f5-7338-405d-ad42-83fa5e694b3e",
   "metadata": {},
   "outputs": [
    {
     "name": "stdin",
     "output_type": "stream",
     "text": [
      " 20\n"
     ]
    },
    {
     "name": "stdout",
     "output_type": "stream",
     "text": [
      "20 19 18 17 16 15 14 13 12 11 10 9 8 7 6 5 4 3 2 1 "
     ]
    }
   ],
   "source": [
    "def countdown(num):\n",
    "    for i in range(num, 0, -1):\n",
    "        yield i\n",
    "\n",
    "n = int(input())\n",
    "for num in countdown(n):\n",
    "    print(num, end=\" \")\n"
   ]
  },
  {
   "cell_type": "code",
   "execution_count": null,
   "id": "b984b1f4-1b89-4d0f-adbe-f6555704723c",
   "metadata": {},
   "outputs": [],
   "source": []
  }
 ],
 "metadata": {
  "kernelspec": {
   "display_name": "Python [conda env:base] *",
   "language": "python",
   "name": "conda-base-py"
  },
  "language_info": {
   "codemirror_mode": {
    "name": "ipython",
    "version": 3
   },
   "file_extension": ".py",
   "mimetype": "text/x-python",
   "name": "python",
   "nbconvert_exporter": "python",
   "pygments_lexer": "ipython3",
   "version": "3.12.7"
  }
 },
 "nbformat": 4,
 "nbformat_minor": 5
}
